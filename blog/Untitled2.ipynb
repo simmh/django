{
 "cells": [
  {
   "cell_type": "code",
   "execution_count": 2,
   "metadata": {},
   "outputs": [
    {
     "name": "stdout",
     "output_type": "stream",
     "text": [
      "<QuerySet [<Post: Javascript - 자바스크립트 #01 - 자바스크립트 첫 포스트>, <Post: None - Uncategory Post #1 - no category no body 1>]>\n"
     ]
    }
   ],
   "source": [
    "from core.models import Category, Post\n",
    "\n",
    "posts = Post.objects.all()\n",
    "print(posts)"
   ]
  },
  {
   "cell_type": "code",
   "execution_count": 12,
   "metadata": {},
   "outputs": [
    {
     "name": "stdout",
     "output_type": "stream",
     "text": [
      "<QuerySet [<Post: None - Uncategory Post #1 - nobody 1>, <Post: None - Uncategory Post #2 - Uncategory Post #2 body>]>\n",
      "None - Uncategory Post #1 - nobody 1\n",
      "---\n",
      "None - Uncategory Post #2 - Uncategory Post #2 body\n",
      "---\n"
     ]
    }
   ],
   "source": [
    "posts = Post.objects.filter(category=None)\n",
    "print(posts)\n",
    "\n",
    "for p in posts:\n",
    "    print(p)\n",
    "    print('---')\n",
    "\n",
    "    \n"
   ]
  },
  {
   "cell_type": "code",
   "execution_count": null,
   "metadata": {},
   "outputs": [],
   "source": [
    "\n",
    "    \n"
   ]
  },
  {
   "cell_type": "code",
   "execution_count": null,
   "metadata": {},
   "outputs": [],
   "source": []
  }
 ],
 "metadata": {
  "kernelspec": {
   "display_name": "Django Shell-Plus",
   "language": "python",
   "name": "django_extensions"
  },
  "language_info": {
   "codemirror_mode": {
    "name": "ipython",
    "version": 3
   },
   "file_extension": ".py",
   "mimetype": "text/x-python",
   "name": "python",
   "nbconvert_exporter": "python",
   "pygments_lexer": "ipython3",
   "version": "3.6.0"
  }
 },
 "nbformat": 4,
 "nbformat_minor": 2
}
